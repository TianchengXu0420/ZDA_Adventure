{
 "cells": [
  {
   "cell_type": "code",
   "execution_count": 1,
   "id": "f3dcb4b2",
   "metadata": {},
   "outputs": [],
   "source": [
    "import numpy as np\n",
    "import pandas as pd\n",
    "import matplotlib.pyplot as plt\n",
    "from utility import *\n",
    "from tools import *\n",
    "from maps import *"
   ]
  },
  {
   "cell_type": "code",
   "execution_count": 2,
   "id": "35da5c05",
   "metadata": {},
   "outputs": [
    {
     "ename": "FileNotFoundError",
     "evalue": "[Errno 2] No such file or directory: 'C:/Users/txu245/Desktop/SstAnalysis/0809_05_02_01/05_02_01.zda'",
     "output_type": "error",
     "traceback": [
      "\u001b[1;31m---------------------------------------------------------------------------\u001b[0m",
      "\u001b[1;31mFileNotFoundError\u001b[0m                         Traceback (most recent call last)",
      "Cell \u001b[1;32mIn[2], line 5\u001b[0m\n\u001b[0;32m      2\u001b[0m datadir \u001b[38;5;241m=\u001b[39m \u001b[38;5;124m'\u001b[39m\u001b[38;5;124mC:/Users/txu245/Desktop/SstAnalysis/0809_05_02_01/05_02_01.zda\u001b[39m\u001b[38;5;124m'\u001b[39m\n\u001b[0;32m      4\u001b[0m \u001b[38;5;66;03m# Load the Tool Packages.\u001b[39;00m\n\u001b[1;32m----> 5\u001b[0m DataLoader \u001b[38;5;241m=\u001b[39m \u001b[43mDataLoader\u001b[49m\u001b[43m(\u001b[49m\u001b[43mdatadir\u001b[49m\u001b[43m)\u001b[49m\n\u001b[0;32m      6\u001b[0m Tools \u001b[38;5;241m=\u001b[39m Tools()\n\u001b[0;32m      7\u001b[0m Maps \u001b[38;5;241m=\u001b[39m Maps()\n",
      "File \u001b[1;32mc:\\Users\\txu245\\Desktop\\ZDA_Adventure\\utility.py:13\u001b[0m, in \u001b[0;36mDataLoader.__init__\u001b[1;34m(self, filedir)\u001b[0m\n\u001b[0;32m      7\u001b[0m \u001b[38;5;250m\u001b[39m\u001b[38;5;124;03m'''\u001b[39;00m\n\u001b[0;32m      8\u001b[0m \u001b[38;5;124;03mInitialize the Data and Parameters.\u001b[39;00m\n\u001b[0;32m      9\u001b[0m \u001b[38;5;124;03mPreparation for further processing.\u001b[39;00m\n\u001b[0;32m     10\u001b[0m \u001b[38;5;124;03m'''\u001b[39;00m\n\u001b[0;32m     12\u001b[0m \u001b[38;5;66;03m# Important Index of the ZDA Data.\u001b[39;00m\n\u001b[1;32m---> 13\u001b[0m \u001b[38;5;28mself\u001b[39m\u001b[38;5;241m.\u001b[39mdata, metadata, \u001b[38;5;28mself\u001b[39m\u001b[38;5;241m.\u001b[39mrli, \u001b[38;5;28mself\u001b[39m\u001b[38;5;241m.\u001b[39msupplyment \u001b[38;5;241m=\u001b[39m \u001b[38;5;28;43mself\u001b[39;49m\u001b[38;5;241;43m.\u001b[39;49m\u001b[43mfrom_zda_to_numpy\u001b[49m\u001b[43m(\u001b[49m\u001b[43mfiledir\u001b[49m\u001b[43m)\u001b[49m\n\u001b[0;32m     14\u001b[0m \u001b[38;5;28mself\u001b[39m\u001b[38;5;241m.\u001b[39mfiledir \u001b[38;5;241m=\u001b[39m filedir\n\u001b[0;32m     15\u001b[0m \u001b[38;5;28mself\u001b[39m\u001b[38;5;241m.\u001b[39mmeta \u001b[38;5;241m=\u001b[39m metadata\n",
      "File \u001b[1;32mc:\\Users\\txu245\\Desktop\\ZDA_Adventure\\utility.py:31\u001b[0m, in \u001b[0;36mDataLoader.from_zda_to_numpy\u001b[1;34m(self, filedir)\u001b[0m\n\u001b[0;32m     25\u001b[0m \u001b[38;5;250m\u001b[39m\u001b[38;5;124;03m'''\u001b[39;00m\n\u001b[0;32m     26\u001b[0m \u001b[38;5;124;03mRead ZDA file and convert the data into numpy array which can be used in Python.\u001b[39;00m\n\u001b[0;32m     27\u001b[0m \u001b[38;5;124;03mIncluding RLI Data, MetaData, Raw Data, and Supplymental Data.\u001b[39;00m\n\u001b[0;32m     28\u001b[0m \u001b[38;5;124;03m'''\u001b[39;00m\n\u001b[0;32m     30\u001b[0m \u001b[38;5;66;03m# Load and read the binary ZDA file.\u001b[39;00m\n\u001b[1;32m---> 31\u001b[0m file \u001b[38;5;241m=\u001b[39m \u001b[38;5;28;43mopen\u001b[39;49m\u001b[43m(\u001b[49m\u001b[43mfiledir\u001b[49m\u001b[43m,\u001b[49m\u001b[43m \u001b[49m\u001b[38;5;124;43m'\u001b[39;49m\u001b[38;5;124;43mrb\u001b[39;49m\u001b[38;5;124;43m'\u001b[39;49m\u001b[43m)\u001b[49m\n\u001b[0;32m     33\u001b[0m \u001b[38;5;66;03m# Read in different scales.\u001b[39;00m\n\u001b[0;32m     34\u001b[0m chSize \u001b[38;5;241m=\u001b[39m \u001b[38;5;241m1\u001b[39m\n",
      "\u001b[1;31mFileNotFoundError\u001b[0m: [Errno 2] No such file or directory: 'C:/Users/txu245/Desktop/SstAnalysis/0809_05_02_01/05_02_01.zda'"
     ]
    }
   ],
   "source": [
    "# Load the Data's directory.\n",
    "datadir = 'C:/Users/txu245/Desktop/SstAnalysis/0809_05_02_01/05_02_01.zda'\n",
    "\n",
    "# Load the Tool Packages.\n",
    "DataLoader = DataLoader(datadir)\n",
    "Tools = Tools()\n",
    "Maps = Maps()"
   ]
  },
  {
   "cell_type": "code",
   "execution_count": null,
   "id": "a2d483d7",
   "metadata": {},
   "outputs": [],
   "source": [
    "# Parameters Setting.\n",
    "startPt = 90\n",
    "numPt = 22\n",
    "skipPt = 60\n",
    "basePt = 90\n",
    "index = np.linspace(0, 550, 80)\n",
    "threshold = 0.5\n",
    "\n",
    "# Load and preprocess the Data.\n",
    "Data = DataLoader.get_data() # Trials * height * width * timepoints.\n",
    "Data = Tools.Polynomial(startPt=startPt, numPt=skipPt, Data=Data)\n",
    "Data = Tools.T_filter(Data=Data)\n",
    "Data = Tools.S_filter(sigma=1, Data=Data)\n",
    "\n",
    "Data_ave = np.mean(np.copy(Data), axis=0) # height * width * timepoints.\n",
    "Data_win = Data_ave[:, :, startPt:(startPt+numPt)]\n",
    "Data_init = Data_ave[:, :, :basePt]"
   ]
  },
  {
   "cell_type": "code",
   "execution_count": null,
   "id": "11177421",
   "metadata": {},
   "outputs": [],
   "source": [
    "SD = np.zeros((Data.shape[1], Data.shape[2]))\n",
    "Amp = np.zeros((Data.shape[1], Data.shape[2]))\n",
    "\n",
    "for i in range(Data_win.shape[0]):\n",
    "    for j in range(Data_win.shape[1]):\n",
    "        \n",
    "        Amp[i][j] = np.max(np.abs(Data_win[i][j]))\n",
    "        \n",
    "for i in range(Data_init.shape[0]):\n",
    "    for j in range(Data_init.shape[1]):\n",
    "        \n",
    "        SD[i][j] = np.std(Data_init[i][j])\n",
    "        \n",
    "SNR = Amp / SD\n",
    "SNR = SNR / np.max(SNR)"
   ]
  },
  {
   "cell_type": "code",
   "execution_count": null,
   "id": "a97fae25",
   "metadata": {},
   "outputs": [],
   "source": [
    "plt.imshow(SNR, vmin=0, vmax=1, cmap='rainbow')\n",
    "plt.colorbar()\n",
    "plt.show()"
   ]
  },
  {
   "cell_type": "code",
   "execution_count": null,
   "id": "289db937",
   "metadata": {},
   "outputs": [],
   "source": [
    "# Horizontal Velocity.\n",
    "H_Velocity = np.zeros(Data_win.shape[0])\n",
    "\n",
    "for i in range(Data_win.shape[0]):\n",
    "    value = 0\n",
    "    count = 0\n",
    "    for j in range(Data_win.shape[0]):\n",
    "        if SNR[Data_win.shape[0]-1-i][j] >= threshold:\n",
    "            \n",
    "            value = value + Maps.Half_Amp_Latency(Data_win[Data_win.shape[0]-1-i, j, :])\n",
    "            count = count + 1\n",
    "    if count > 0:        \n",
    "        H_Velocity[i] = value / count"
   ]
  },
  {
   "cell_type": "code",
   "execution_count": null,
   "id": "5b73a5ff",
   "metadata": {},
   "outputs": [],
   "source": [
    "# Vertical Velocity.\n",
    "V_Velocity = np.zeros(Data_win.shape[1])\n",
    "\n",
    "for i in range(Data_win.shape[1]):\n",
    "    value = 0\n",
    "    count = 0\n",
    "    for j in range(Data_win.shape[1]):\n",
    "        if SNR[Data_win.shape[1]-1-j][i] >= threshold:\n",
    "            \n",
    "            value = value + Maps.Half_Amp_Latency(Data_win[Data_win.shape[1]-1-j, i, :])\n",
    "            count = count + 1 \n",
    "    if count > 0:        \n",
    "        V_Velocity[i] = value / count"
   ]
  },
  {
   "cell_type": "code",
   "execution_count": null,
   "id": "878870cc",
   "metadata": {},
   "outputs": [],
   "source": [
    "plt.scatter(index, V_Velocity)\n",
    "plt.show()"
   ]
  },
  {
   "cell_type": "code",
   "execution_count": null,
   "id": "d69f2854",
   "metadata": {},
   "outputs": [],
   "source": [
    "plt.scatter(index, H_Velocity)\n",
    "plt.show()"
   ]
  },
  {
   "cell_type": "code",
   "execution_count": null,
   "id": "9f117d83",
   "metadata": {},
   "outputs": [],
   "source": [
    "V_Velocity_cor = []\n",
    "tag_V = []\n",
    "\n",
    "for i in range(80):\n",
    "    if V_Velocity[i]<=0:\n",
    "        continue\n",
    "    else:\n",
    "        V_Velocity_cor.append(V_Velocity[i])\n",
    "        tag_V.append(i)\n",
    "\n",
    "V_Velocity_cor = np.array(V_Velocity_cor)\n",
    "tag_V = np.array(tag_V)"
   ]
  },
  {
   "cell_type": "code",
   "execution_count": null,
   "id": "5aa20eac",
   "metadata": {},
   "outputs": [],
   "source": [
    "H_Velocity_cor = []\n",
    "tag_H = []\n",
    "\n",
    "for i in range(80):\n",
    "    if H_Velocity[i]<=0:\n",
    "        continue\n",
    "    else:\n",
    "        H_Velocity_cor.append(H_Velocity[i])\n",
    "        tag_H.append(i)\n",
    "\n",
    "H_Velocity_cor = np.array(H_Velocity_cor)\n",
    "tag_H = np.array(tag_H)"
   ]
  },
  {
   "cell_type": "code",
   "execution_count": null,
   "id": "ad5bbbcc",
   "metadata": {},
   "outputs": [],
   "source": [
    "y_coor = tag_H[np.argmin(H_Velocity_cor)]\n",
    "x_coor = tag_V[np.argmin(V_Velocity_cor)]\n",
    "\n",
    "print(x_coor)\n",
    "print(y_coor)"
   ]
  },
  {
   "cell_type": "code",
   "execution_count": null,
   "id": "5cd3847d",
   "metadata": {},
   "outputs": [],
   "source": [
    "plt.imshow(SNR, vmin=0, vmax=1, cmap='rainbow')\n",
    "plt.scatter(x_coor, 79-y_coor, marker='*', color='black', s=50)\n",
    "plt.show()"
   ]
  },
  {
   "cell_type": "code",
   "execution_count": null,
   "id": "0f8c4cb9",
   "metadata": {},
   "outputs": [],
   "source": [
    "tag_V_left = []\n",
    "V_Velocity_left = []\n",
    "tag_V_right = []\n",
    "V_Velocity_right = []\n",
    "\n",
    "for i, element in enumerate(tag_V):\n",
    "    \n",
    "    if element <= x_coor:\n",
    "        tag_V_left.append(element)\n",
    "        V_Velocity_left.append(V_Velocity_cor[i])\n",
    "    elif element >=x_coor:\n",
    "        tag_V_right.append(element)\n",
    "        V_Velocity_right.append(V_Velocity_cor[i])\n",
    "        \n",
    "tag_V_left = np.array(tag_V_left)\n",
    "V_Velocity_left = np.array(V_Velocity_left)\n",
    "tag_V_right = np.array(tag_V_right)\n",
    "V_Velocity_right = np.array(V_Velocity_right)"
   ]
  },
  {
   "cell_type": "code",
   "execution_count": null,
   "id": "f7d250d9",
   "metadata": {},
   "outputs": [],
   "source": [
    "tag_H_lower = []\n",
    "H_Velocity_lower = []\n",
    "tag_H_upper = []\n",
    "H_Velocity_upper = []\n",
    "\n",
    "for i, element in enumerate(tag_H):\n",
    "    \n",
    "    if element <= y_coor:\n",
    "        tag_H_lower.append(element)\n",
    "        H_Velocity_lower.append(H_Velocity_cor[i])\n",
    "    elif element >=y_coor:\n",
    "        tag_H_upper.append(element)\n",
    "        H_Velocity_upper.append(H_Velocity_cor[i])\n",
    "        \n",
    "tag_H_lower = np.array(tag_H_lower)\n",
    "H_Velocity_lower = np.array(H_Velocity_lower)\n",
    "tag_H_upper = np.array(tag_H_upper)\n",
    "H_Velocity_upper = np.array(H_Velocity_upper)"
   ]
  },
  {
   "cell_type": "code",
   "execution_count": null,
   "id": "c6b152f5",
   "metadata": {},
   "outputs": [],
   "source": [
    "V_right_s, V_right_d = np.polyfit(tag_V_right*(550/79), V_Velocity_right, deg=1)\n",
    "V_right_v = 1 / V_right_s\n",
    "print(V_right_v, 'μm/ms')"
   ]
  },
  {
   "cell_type": "code",
   "execution_count": null,
   "id": "b61ebb6e",
   "metadata": {},
   "outputs": [],
   "source": [
    "H_upper_s, H_upper_d = np.polyfit(tag_H_upper*(550/79), H_Velocity_upper, deg=1)\n",
    "H_upper_v = 1 / H_upper_s\n",
    "print(H_upper_v, 'μm/ms')"
   ]
  },
  {
   "cell_type": "code",
   "execution_count": null,
   "id": "f24c45b0",
   "metadata": {},
   "outputs": [],
   "source": [
    "V_left_s, V_left_d = np.polyfit(tag_V_left*(550/79), V_Velocity_left, deg=1)\n",
    "V_left_v = 1 / V_left_s\n",
    "print(V_left_v, 'μm/ms')"
   ]
  },
  {
   "cell_type": "code",
   "execution_count": null,
   "id": "52c6cbed",
   "metadata": {},
   "outputs": [],
   "source": [
    "H_lower_s, H_lower_d = np.polyfit(tag_H_lower*(550/79), H_Velocity_lower, deg=1)\n",
    "H_lower_v = 1 / H_lower_s\n",
    "print(H_lower_v, 'μm/ms')"
   ]
  },
  {
   "cell_type": "code",
   "execution_count": null,
   "id": "3efa9e92",
   "metadata": {},
   "outputs": [],
   "source": [
    "Speed_upper_right = np.sqrt((V_right_v)**2 + (H_upper_v)**2)\n",
    "print(Speed_upper_right, 'μm/ms')\n",
    "print(V_right_v, 'μm/ms')\n",
    "print(H_upper_v, 'μm/ms')\n",
    "\n",
    "angle_upper_right = np.arctan(H_upper_v / V_right_v) * 180 / np.pi\n",
    "print(angle_upper_right, '°')"
   ]
  },
  {
   "cell_type": "code",
   "execution_count": null,
   "id": "789e8bc1",
   "metadata": {},
   "outputs": [],
   "source": [
    "Speed_lower_left = np.sqrt((V_left_v)**2 + (H_lower_v)**2)\n",
    "print(Speed_lower_left, 'μm/ms')\n",
    "print(V_left_v, 'μm/ms')\n",
    "print(H_lower_v, 'μm/ms')\n",
    "\n",
    "angle_lower_left = np.arctan(H_lower_v / V_left_v) * 180 / np.pi\n",
    "print(angle_lower_left, '°')"
   ]
  },
  {
   "cell_type": "code",
   "execution_count": null,
   "id": "6eebe285",
   "metadata": {},
   "outputs": [],
   "source": [
    "Speed_upper_left = np.sqrt((V_left_v)**2 + (H_upper_v)**2)\n",
    "print(Speed_upper_left)\n",
    "print(V_left_v, 'μm/ms')\n",
    "print(H_upper_v, 'μm/ms')\n",
    "\n",
    "angle_upper_left = np.arctan(H_upper_v / V_left_v) * 180 / np.pi\n",
    "print(angle_upper_left, '°')"
   ]
  },
  {
   "cell_type": "code",
   "execution_count": null,
   "id": "a7f9e98f",
   "metadata": {},
   "outputs": [],
   "source": [
    "Speed_lower_right = np.sqrt((V_right_v)**2 + (H_lower_v)**2)\n",
    "print(Speed_lower_right, 'μm/ms')\n",
    "print(V_right_v, 'μm/ms')\n",
    "print(H_lower_v, 'μm/ms')\n",
    "\n",
    "angle_lower_right = np.arctan(H_lower_v / V_right_v) * 180 / np.pi\n",
    "print(angle_lower_right, '°')"
   ]
  }
 ],
 "metadata": {
  "kernelspec": {
   "display_name": "Python 3",
   "language": "python",
   "name": "python3"
  },
  "language_info": {
   "codemirror_mode": {
    "name": "ipython",
    "version": 3
   },
   "file_extension": ".py",
   "mimetype": "text/x-python",
   "name": "python",
   "nbconvert_exporter": "python",
   "pygments_lexer": "ipython3",
   "version": "3.12.8"
  }
 },
 "nbformat": 4,
 "nbformat_minor": 5
}
